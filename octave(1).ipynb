{
  "nbformat": 4,
  "nbformat_minor": 0,
  "metadata": {
    "colab": {
      "provenance": []
    },
    "kernelspec": {
      "name": "python3",
      "display_name": "Python 3"
    },
    "language_info": {
      "name": "python"
    }
  },
  "cells": [
    {
      "cell_type": "code",
      "execution_count": null,
      "metadata": {
        "id": "c7aHH6NIOeYc"
      },
      "outputs": [],
      "source": [
        "%matrix goes here\n",
        "A = [10 7 8 7; 7 5 6 5; 8 6 10 9; 7 5 9 10];\n",
        "%initial vector goes here\n",
        "x0 = [1;0;0;0];\n",
        "\n",
        "% --- Set Parameters ---\n",
        "tol = 1e-6;     % Convergence tolerance\n",
        "maxIter = 100;  % Maximum number of iterations\n",
        "\n",
        "%% Part (a): Compute the eigenvalue with largest magnitude (Power Method)\n",
        "x = x0;  % Initialize with x0\n",
        "lambda_old = 0;\n",
        "\n",
        "for k = 1:maxIter\n",
        "    Ax = A * x;                  % Multiply current vector by A\n",
        "    lambda = dot(Ax, x) / dot(x, x);  % Estimate eigenvalue via Rayleigh quotient\n",
        "    x = Ax / norm(Ax);           % Normalize the vector\n",
        "\n",
        "    % Check for convergence\n",
        "    if abs(lambda - lambda_old) < tol\n",
        "        break;\n",
        "    end\n",
        "    lambda_old = lambda;\n",
        "end\n",
        "\n",
        "fprintf('\\n--- Part (a): Largest Eigenvalue (by magnitude) ---\\n');\n",
        "fprintf('Approximate Eigenvalue: %f\\n', lambda);\n",
        "fprintf('Corresponding Eigenvector (normalized):\\n');\n",
        "disp(x);\n",
        "\n",
        "%% Part (b): Compute the eigenvalue closest to zero (Inverse Power Method)\n",
        "% Invert A to get B = A^{-1}\n",
        "B = inv(A);\n",
        "\n",
        "x = x0;  % Reinitialize with the same x0\n",
        "lambdaB_old = 0;\n",
        "\n",
        "for k = 1:maxIter\n",
        "    Bx = B * x;                % Multiply by B = A^{-1}\n",
        "    lambdaB = dot(Bx, x) / dot(x, x);  % Rayleigh quotient for B\n",
        "    x = Bx / norm(Bx);         % Normalize\n",
        "\n",
        "    if abs(lambdaB - lambdaB_old) < tol\n",
        "        break;\n",
        "    end\n",
        "    lambdaB_old = lambdaB;\n",
        "end\n",
        "\n",
        "% For B = A^{-1}, the dominant eigenvalue of B is 1/(eigenvalue of A that is closest to 0)\n",
        "lambda_closest_zero = 1 / lambdaB;\n",
        "\n",
        "fprintf('\\n--- Part (b): Eigenvalue Closest to Zero ---\\n');\n",
        "fprintf('Approximate Eigenvalue: %f\\n', lambda_closest_zero);\n",
        "fprintf('Corresponding Eigenvector (normalized):\\n');\n",
        "disp(x);\n"
      ]
    },
    {
      "cell_type": "code",
      "source": [
        "% Define the matrix A and initial vector x0\n",
        "A = [8 0 12; 1 -2 1; 0 3 0];\n",
        "x = [1; 0; 0];\n",
        "\n",
        "% Iterate for k=1,...,5\n",
        "for k = 1:6\n",
        "    % Multiply by A\n",
        "    Ax = A * x;\n",
        "\n",
        "    % Compute the Rayleigh quotient mu_k = (x^T * A * x) / (x^T * x)\n",
        "    mu = dot(Ax, x) / dot(x, x);\n",
        "\n",
        "    % Normalize to get the next x_k\n",
        "    x = Ax / norm(Ax);\n",
        "\n",
        "    % Display results for each iteration\n",
        "    fprintf(\"Iteration k = %d\\n\", k);\n",
        "    fprintf(\"  x_k = [%.4f, %.4f]^T\\n\", x(1), x(2));\n",
        "    fprintf(\"  mu_k = %.4f\\n\\n\", mu);\n",
        "end\n"
      ],
      "metadata": {
        "id": "LFVaPwUkOtIy"
      },
      "execution_count": null,
      "outputs": []
    },
    {
      "cell_type": "code",
      "source": [
        "A = [-2 -3; 6 7];\n",
        "x = [-2045; 4093];\n",
        "\n",
        "% Compute A*x\n",
        "Ax = A * x;\n",
        "\n",
        "% Rayleigh quotient\n",
        "lambda = dot(Ax, x) / dot(x, x)\n",
        "\n",
        "% Normalize x to get approximate eigenvector\n",
        "eigenvector = x / norm(x)\n"
      ],
      "metadata": {
        "id": "zDVZOr-OOwKJ"
      },
      "execution_count": null,
      "outputs": []
    },
    {
      "cell_type": "code",
      "source": [
        "%forsolving(21):\n",
        "\n",
        "A = [];\n",
        "\n",
        "x0 = [0.5; 0.5];\n",
        "\n",
        "maxIter = 10;\n",
        "\n",
        "% Display the matrix and initial vector\n",
        "fprintf('Matrix A:\\n');\n",
        "disp(A);\n",
        "fprintf('Initial vector x0:\\n');\n",
        "disp(x0);\n",
        "\n",
        "% Initialize x with the starting vector\n",
        "x = x0;\n",
        "\n",
        "% Iterate and display the results at each step\n",
        "for k = 1:maxIter\n",
        "    x = A * x;  % Compute the new vector: x^(k) = A*x^(k-1)\n",
        "    fprintf('Iteration %d: x = [%.4f, %.4f]^T\\n', k, x(1), x(2));\n",
        "end\n"
      ],
      "metadata": {
        "colab": {
          "base_uri": "https://localhost:8080/"
        },
        "id": "6Nr3U5YeS_zc",
        "outputId": "e8b99963-57aa-42fa-c474-2725ffe3a05e"
      },
      "execution_count": 1,
      "outputs": [
        {
          "output_type": "stream",
          "name": "stderr",
          "text": [
            "UsageError: Cell magic `%%` not found.\n"
          ]
        }
      ]
    }
  ]
}